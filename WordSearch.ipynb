{
 "cells": [
  {
   "cell_type": "code",
   "execution_count": 1,
   "metadata": {
    "scrolled": true
   },
   "outputs": [
    {
     "data": {
      "application/vnd.jupyter.widget-view+json": {
       "model_id": "9ac7065be2094c0abc15063f17b09664",
       "version_major": 2,
       "version_minor": 0
      },
      "text/plain": [
       "Text(value='', description='Keyword', placeholder='search for :')"
      ]
     },
     "metadata": {},
     "output_type": "display_data"
    },
    {
     "data": {
      "application/vnd.jupyter.widget-view+json": {
       "model_id": "350bb2274d01425788c95c22ae234972",
       "version_major": 2,
       "version_minor": 0
      },
      "text/plain": [
       "Text(value='C:\\\\Users\\\\lkh', description='Path:', placeholder='Start path :')"
      ]
     },
     "metadata": {},
     "output_type": "display_data"
    },
    {
     "data": {
      "application/vnd.jupyter.widget-view+json": {
       "model_id": "07d9de8f9bff4bac9712405e00edfbde",
       "version_major": 2,
       "version_minor": 0
      },
      "text/plain": [
       "Button(button_style='info', description='List', icon='check', style=ButtonStyle(), tooltip='Search')"
      ]
     },
     "metadata": {},
     "output_type": "display_data"
    },
    {
     "data": {
      "application/vnd.jupyter.widget-view+json": {
       "model_id": "7667edf92e4646f9a8175b6ac6218377",
       "version_major": 2,
       "version_minor": 0
      },
      "text/plain": [
       "Button(button_style='info', description='Tablulate', icon='check', style=ButtonStyle(), tooltip='Search')"
      ]
     },
     "metadata": {},
     "output_type": "display_data"
    },
    {
     "name": "stdout",
     "output_type": "stream",
     "text": [
      "Current folder = : C:\\Users\\lkh\\Documents\\GitHub\\materials\\classes\n"
     ]
    },
    {
     "data": {
      "text/html": [
       "<div>\n",
       "<style scoped>\n",
       "    .dataframe tbody tr th:only-of-type {\n",
       "        vertical-align: middle;\n",
       "    }\n",
       "\n",
       "    .dataframe tbody tr th {\n",
       "        vertical-align: top;\n",
       "    }\n",
       "\n",
       "    .dataframe thead th {\n",
       "        text-align: right;\n",
       "    }\n",
       "</style>\n",
       "<table border=\"1\" class=\"dataframe\">\n",
       "  <thead>\n",
       "    <tr style=\"text-align: right;\">\n",
       "      <th></th>\n",
       "      <th>path1</th>\n",
       "      <th>path2</th>\n",
       "      <th>path3</th>\n",
       "      <th>filename</th>\n",
       "    </tr>\n",
       "  </thead>\n",
       "  <tbody>\n",
       "    <tr>\n",
       "      <th>0</th>\n",
       "      <td>week-07</td>\n",
       "      <td>labs</td>\n",
       "      <td>clustering-intro_to_clustering_kmeans-lab-master</td>\n",
       "      <td>kmeans-clustering-lab.ipynb</td>\n",
       "    </tr>\n",
       "  </tbody>\n",
       "</table>\n",
       "</div>"
      ],
      "text/plain": [
       "     path1 path2                                             path3  \\\n",
       "0  week-07  labs  clustering-intro_to_clustering_kmeans-lab-master   \n",
       "\n",
       "                      filename  \n",
       "0  kmeans-clustering-lab.ipynb  "
      ]
     },
     "metadata": {},
     "output_type": "display_data"
    },
    {
     "name": "stdout",
     "output_type": "stream",
     "text": [
      "Current folder = : C:\\Users\\lkh\\Documents\\GitHub\\materials\\classes\n",
      "filename is C:\\Users\\lkh\\Documents\\GitHub\\materials\\classes\\week-07\\labs\\clustering-intro_to_clustering_kmeans-lab-master\\kmeans-clustering-lab.ipynb\n",
      "    \"from sklearn.metrics import pairwise_distances\\n\",\n",
      "\n",
      "================================================================================ \n",
      "\n",
      "\n"
     ]
    }
   ],
   "source": [
    "import os, sys;import ipywidgets as widgets;import pandas as pd;import warnings;warnings.filterwarnings('ignore');from subprocess import check_output\n",
    "Just_Run_It = \"\"\"\n",
    "https://github.com/WingsMaker/WordSearch\n",
    " __          __           _    _____                     _     \n",
    " \\ \\        / /          | |  / ____|                   | |    \n",
    "  \\ \\  /\\  / /__  _ __ __| | | (___   ___  __ _ _ __ ___| |__  \n",
    "   \\ \\/  \\/ / _ \\| '__/ _` |  \\___ \\ / _ \\/ _` | '__/ __| '_ \\ \n",
    "    \\  /\\  / (_) | | | (_| |  ____) |  __/ (_| | | | (__| | | |\n",
    "     \\/  \\/ \\___/|_|  \\__,_| |_____/ \\___|\\__,_|_|  \\___|_| |_|\n",
    "                                                               \n",
    "\"\"\"\n",
    "def wordfound(searchword,fn):\n",
    "    f = open(fn, \"r\", encoding=\"utf-8\");   contents = f.read();   f.close();   \n",
    "    return contents.find(searchword)>=0\n",
    "def showfn(searchword,fn):\n",
    "    print(f\"filename is {fn}\")\n",
    "    if searchword == \"\" or fn == \"\":   return None\n",
    "    print(check_output([\"grep\", searchword, fn]).decode(\"utf8\"))\n",
    "    print(\"=\"*80,\"\\n\\n\")        \n",
    "    return\n",
    "def word_list(b):\n",
    "    dpath = pathbox.value ;   searchword = wordbox.value\n",
    "    if searchword == \"\" or dpath == \"\":   return None\n",
    "    dfiles=[] ;fpath=os.path.abspath(dpath);print('Current folder = :',fpath);slash='\\\\' if fpath.find('\\\\')>0 else '/'\n",
    "    for root, directories, filenames in os.walk(dpath):\n",
    "        for filename in filenames: \n",
    "            fn=os.path.join(root,filename);   \n",
    "            if (((True if searchword=='' else wordfound(searchword,fn)) if (filename.find('checkpoint')<0) else False) if (filename.find('.ipynb')>=0) else False):   showfn(searchword,fn)\n",
    "    return\n",
    "def word_search(b):\n",
    "    dpath = pathbox.value ;   searchword = wordbox.value\n",
    "    if searchword == \"\" or dpath == \"\":   return None\n",
    "    dfiles=[] ;fpath=os.path.abspath(dpath);print('Current folder = :',fpath);slash='\\\\' if fpath.find('\\\\')>0 else '/'\n",
    "    for root, directories, filenames in os.walk(dpath):\n",
    "        for filename in filenames: \n",
    "            fn=os.path.join(root,filename); \n",
    "            if filename.find('.ipynb')>=0:\n",
    "                if filename.find('checkpoint')<0: \n",
    "                    gpath=os.path.abspath(root).replace(fpath,'');glist=gpath.split(slash)\n",
    "                    if len(glist)>1:   subpath1 = glist[-1];subpath2=glist[-2];   subpath3 = glist[-3] if len(glist)>2 else fpath\n",
    "                    else:   glist=fpath.split(slash);subpath1=gpath;subpath2=glist[-2];subpath3=fpath.replace(subpath2,'')\n",
    "                    if searchword=='':   \n",
    "                        dfiles.append([subpath3, subpath2, subpath1, filename] )\n",
    "                    else:   \n",
    "                        if wordfound(searchword,fn):   dfiles.append([subpath3, subpath2, subpath1, filename])\n",
    "    df_dir = pd.DataFrame(dfiles, columns=['path1', 'path2','path3', 'filename']);   display(df_dir);   return df_dir\n",
    "wordbox = widgets.Text(value='',placeholder='search for :',description='Keyword',disabled=False);pathbox = widgets.Text(value = os.getcwd(),placeholder='Start path :',description='Path:',disabled=False);btnList = widgets.Button(description='List',disabled=False,button_style='info',tooltip='Search',icon='check');btnTab = widgets.Button(description='Tablulate',disabled=False,button_style='info',tooltip='Search',icon='check');display(wordbox);display(pathbox);display(btnList);display(btnTab);btnList.on_click(word_list);btnTab.on_click(word_search)"
   ]
  }
 ],
 "metadata": {
  "kernelspec": {
   "display_name": "Python 3",
   "language": "python",
   "name": "python3"
  },
  "language_info": {
   "codemirror_mode": {
    "name": "ipython",
    "version": 3
   },
   "file_extension": ".py",
   "mimetype": "text/x-python",
   "name": "python",
   "nbconvert_exporter": "python",
   "pygments_lexer": "ipython3",
   "version": "3.7.1"
  }
 },
 "nbformat": 4,
 "nbformat_minor": 2
}
