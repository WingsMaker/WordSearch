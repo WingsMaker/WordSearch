{
 "cells": [
  {
   "cell_type": "code",
   "execution_count": 9,
   "metadata": {},
   "outputs": [
    {
     "data": {
      "application/vnd.jupyter.widget-view+json": {
       "model_id": "985fbc48a6ca46f5b0ffbf224fff16c3",
       "version_major": 2,
       "version_minor": 0
      },
      "text/plain": [
       "Text(value='LogisticRegression', description='Keyword', placeholder='search for :')"
      ]
     },
     "metadata": {},
     "output_type": "display_data"
    },
    {
     "data": {
      "application/vnd.jupyter.widget-view+json": {
       "model_id": "c9b5ddaa960d4273bf44e1b92e3c6fc2",
       "version_major": 2,
       "version_minor": 0
      },
      "text/plain": [
       "Text(value='C:\\\\Users\\\\lkh\\\\Documents\\\\GitHub\\\\materials\\\\classes\\\\', description='Path:', placeholder='Start …"
      ]
     },
     "metadata": {},
     "output_type": "display_data"
    },
    {
     "data": {
      "application/vnd.jupyter.widget-view+json": {
       "model_id": "4ad1696ae3b74828bd4f36e7f5448cf6",
       "version_major": 2,
       "version_minor": 0
      },
      "text/plain": [
       "Button(button_style='info', description='List', icon='check', style=ButtonStyle(), tooltip='Search')"
      ]
     },
     "metadata": {},
     "output_type": "display_data"
    },
    {
     "data": {
      "application/vnd.jupyter.widget-view+json": {
       "model_id": "9889250c20da48b49b334cf37a87bc20",
       "version_major": 2,
       "version_minor": 0
      },
      "text/plain": [
       "Button(button_style='info', description='Tablulate', icon='check', style=ButtonStyle(), tooltip='Search')"
      ]
     },
     "metadata": {},
     "output_type": "display_data"
    }
   ],
   "source": [
    "Just_Run_It = \"\"\"\n",
    "https://github.com/WingsMaker/WordSearch\n",
    " __          __           _    _____                     _     \n",
    " \\ \\        / /          | |  / ____|                   | |    \n",
    "  \\ \\  /\\  / /__  _ __ __| | | (___   ___  __ _ _ __ ___| |__  \n",
    "   \\ \\/  \\/ / _ \\| '__/ _` |  \\___ \\ / _ \\/ _` | '__/ __| '_ \\ \n",
    "    \\  /\\  / (_) | | | (_| |  ____) |  __/ (_| | | | (__| | | |\n",
    "     \\/  \\/ \\___/|_|  \\__,_| |_____/ \\___|\\__,_|_|  \\___|_| |_|\n",
    "                                                               \n",
    "\"\"\"\n",
    "def wordfound(searchword,fn):\n",
    "    f = open(fn, \"r\", encoding=\"utf-8\");   contents = f.read();   f.close();   \n",
    "    return contents.find(searchword)>=0\n",
    "def showfn(searchword,fn):\n",
    "    print(f\"filename is {fn}\")\n",
    "    if searchword == \"\" or fn == \"\":   return None\n",
    "    ! grep $searchword $fn\n",
    "    print(\"=\"*80,\"\\n\\n\")        \n",
    "    return\n",
    "def word_list(b):\n",
    "    dpath = pathbox.value ;   searchword = wordbox.value\n",
    "    if searchword == \"\" or dpath == \"\":   return None\n",
    "    dfiles=[] ;fpath=os.path.abspath(dpath);print('Current folder = :',fpath);slash='\\\\' if fpath.find('\\\\')>0 else '/'\n",
    "    for root, directories, filenames in os.walk(dpath):\n",
    "        for filename in filenames: \n",
    "            fn=os.path.join(root,filename);   \n",
    "            if (((True if searchword=='' else wordfound(searchword,fn)) if (filename.find('checkpoint')<0) else False) if (filename.find('.ipynb')>=0) else False):   showfn(searchword,fn)\n",
    "    return\n",
    "def word_search(b):\n",
    "    dpath = pathbox.value ;   searchword = wordbox.value\n",
    "    if searchword == \"\" or dpath == \"\":   return None\n",
    "    dfiles=[] ;fpath=os.path.abspath(dpath);print('Current folder = :',fpath);slash='\\\\' if fpath.find('\\\\')>0 else '/'\n",
    "    for root, directories, filenames in os.walk(dpath):\n",
    "        for filename in filenames: \n",
    "            fn=os.path.join(root,filename); \n",
    "            if filename.find('.ipynb')>=0:\n",
    "                if filename.find('checkpoint')<0: \n",
    "                    gpath=os.path.abspath(root).replace(fpath,'');glist=gpath.split(slash)\n",
    "                    if len(glist)>1:   subpath1 = glist[-1];subpath2=glist[-2];   subpath3 = glist[-3] if len(glist)>2 else fpath\n",
    "                    else:   glist=fpath.split(slash);subpath1=gpath;subpath2=glist[-2];subpath3=fpath.replace(subpath2,'')\n",
    "                    if searchword=='':   \n",
    "                        dfiles.append([subpath3, subpath2, subpath1, filename] )\n",
    "                    else:   \n",
    "                        if wordfound(searchword,fn):   dfiles.append([subpath3, subpath2, subpath1, filename])\n",
    "    df_dir = pd.DataFrame(dfiles, columns=['path1', 'path2','path3', 'filename']);   display(df_dir);   return df_dir\n",
    "import os, sys;import ipywidgets as widgets;import pandas as pd;import warnings;warnings.filterwarnings('ignore');wordbox = widgets.Text(value='LogisticRegression',placeholder='search for :',description='Keyword',disabled=False);pathbox = widgets.Text(value = \"C:\\\\Users\\\\lkh\\\\Documents\\\\GitHub\\\\materials\\\\classes\\\\\",placeholder='Start path :',description='Path:',disabled=False);btnList = widgets.Button(description='List',disabled=False,button_style='info',tooltip='Search',icon='check');btnTab = widgets.Button(description='Tablulate',disabled=False,button_style='info',tooltip='Search',icon='check');display(wordbox);display(pathbox);display(btnList);display(btnTab);btnList.on_click(word_list);btnTab.on_click(word_search)"
   ]
  },
  {
   "cell_type": "code",
   "execution_count": null,
   "metadata": {},
   "outputs": [],
   "source": []
  }
 ],
 "metadata": {
  "kernelspec": {
   "display_name": "Python 3",
   "language": "python",
   "name": "python3"
  },
  "language_info": {
   "codemirror_mode": {
    "name": "ipython",
    "version": 3
   },
   "file_extension": ".py",
   "mimetype": "text/x-python",
   "name": "python",
   "nbconvert_exporter": "python",
   "pygments_lexer": "ipython3",
   "version": "3.7.1"
  }
 },
 "nbformat": 4,
 "nbformat_minor": 2
}
