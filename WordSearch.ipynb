{
 "cells": [
  {
   "cell_type": "code",
   "execution_count": 1,
   "metadata": {},
   "outputs": [
    {
     "data": {
      "text/html": [
       "<style>\n",
       "div.input {\n",
       "    display:none;\n",
       "}\n",
       "</style\n"
      ],
      "text/plain": [
       "<IPython.core.display.HTML object>"
      ]
     },
     "metadata": {},
     "output_type": "display_data"
    }
   ],
   "source": [
    "%%html\n",
    "<style>\n",
    "div.input {\n",
    "    display:none;\n",
    "}\n",
    "</style"
   ]
  },
  {
   "cell_type": "code",
   "execution_count": 2,
   "metadata": {
    "scrolled": true
   },
   "outputs": [
    {
     "data": {
      "application/vnd.jupyter.widget-view+json": {
       "model_id": "8abf90c2502b49059bb9d337829d6515",
       "version_major": 2,
       "version_minor": 0
      },
      "text/plain": [
       "Text(value='', description='Keyword', placeholder='search for :')"
      ]
     },
     "metadata": {},
     "output_type": "display_data"
    },
    {
     "data": {
      "application/vnd.jupyter.widget-view+json": {
       "model_id": "b238b411a4444aaeb143f66e550711af",
       "version_major": 2,
       "version_minor": 0
      },
      "text/plain": [
       "Text(value='C:\\\\Users\\\\lkh\\\\Documents\\\\GitHub\\\\materials', description='Path:', placeholder='Start path :')"
      ]
     },
     "metadata": {},
     "output_type": "display_data"
    },
    {
     "data": {
      "application/vnd.jupyter.widget-view+json": {
       "model_id": "0874d29205b0469d9efb37f04e5ee812",
       "version_major": 2,
       "version_minor": 0
      },
      "text/plain": [
       "Button(button_style='info', description='List', icon='check', style=ButtonStyle(), tooltip='Search')"
      ]
     },
     "metadata": {},
     "output_type": "display_data"
    },
    {
     "data": {
      "application/vnd.jupyter.widget-view+json": {
       "model_id": "42860fe7b56d4f99b2a42ec233cb8046",
       "version_major": 2,
       "version_minor": 0
      },
      "text/plain": [
       "Button(button_style='info', description='Tablulate', icon='check', style=ButtonStyle(), tooltip='Search')"
      ]
     },
     "metadata": {},
     "output_type": "display_data"
    }
   ],
   "source": [
    "from os.path import expanduser;import os, sys;import ipywidgets as widgets;import pandas as pd;import warnings;warnings.filterwarnings('ignore');from subprocess import check_output\n",
    "global portnum,homepath\n",
    "def wordfound(searchword,fn):\n",
    "    f = open(fn, \"r\", encoding=\"utf-8\");   contents = f.read();   f.close();   \n",
    "    return contents.find(searchword)>=0\n",
    "def showfn(searchword,fn):\n",
    "    filelink=\"http://localhost:\" + str(portnum) + \"/notebooks\" + fn.replace(homepath,'').replace(\"\\\\\",\"/\").replace(' ','%20');print(f\"filename is {filelink}\")\n",
    "    if searchword == \"\" or fn == \"\":   return None\n",
    "    print(check_output([\"grep\", searchword, fn]).decode(\"utf8\"))\n",
    "    print(\"=\"*80,\"\\n\\n\")        \n",
    "    return\n",
    "def geturl(fn):\n",
    "    return filelink+fn.replace(expanduser(\"~\"),'').replace(\"\\\\\",\"/\")\n",
    "def word_list(b):\n",
    "    dpath = pathbox.value ;   searchword = wordbox.value\n",
    "    if searchword == \"\" or dpath == \"\":   return None\n",
    "    dfiles=[] ;fpath=os.path.abspath(dpath);print('Current folder = :',fpath);slash='\\\\' if fpath.find('\\\\')>0 else '/'\n",
    "    for root, directories, filenames in os.walk(dpath):\n",
    "        for filename in filenames: \n",
    "            fn=os.path.join(root,filename);\n",
    "            if (((True if searchword=='' else wordfound(searchword,fn)) if (filename.find('checkpoint')<0) else False) if (filename.find('.ipynb')>=0) else False):   showfn(searchword,fn)\n",
    "    return\n",
    "def word_search(b):\n",
    "    dpath = pathbox.value;   searchword = wordbox.value;\n",
    "    if searchword == \"\" or dpath == \"\":   return None\n",
    "    dfiles=[] ;fpath=os.path.abspath(dpath);print('Current folder = :',fpath);slash='\\\\' if fpath.find('\\\\')>0 else '/'\n",
    "    for root, directories, filenames in os.walk(dpath):\n",
    "        for filename in filenames: \n",
    "            fn=os.path.join(root,filename); \n",
    "            if filename.find('.ipynb')>=0:\n",
    "                if filename.find('checkpoint')<0: \n",
    "                    gpath=os.path.abspath(root).replace(fpath,'');glist=gpath.split(slash)\n",
    "                    if len(glist)>1:   subpath1 = glist[-1];subpath2=glist[-2];   subpath3 = glist[-3] if len(glist)>2 else fpath\n",
    "                    else:   glist=fpath.split(slash);subpath1=gpath;subpath2=glist[-2];subpath3=fpath.replace(subpath2,'')\n",
    "                    if searchword=='':   \n",
    "                        dfiles.append([subpath3, subpath2, subpath1, filename] )\n",
    "                    else:\n",
    "                        if wordfound(searchword,fn):   dfiles.append([subpath3, subpath2, subpath1, filename])\n",
    "    df_dir = pd.DataFrame(dfiles, columns=['path1', 'path2','path3', 'filename']);   display(df_dir);   return df_dir\n",
    "portnum=8888;homepath=expanduser(\"~\");wordbox = widgets.Text(value='',placeholder='search for :',description='Keyword',disabled=False);pathbox = widgets.Text(value = os.getcwd(),placeholder='Start path :',description='Path:',disabled=False);btnList = widgets.Button(description='List',disabled=False,button_style='info',tooltip='Search',icon='check');btnTab = widgets.Button(description='Tablulate',disabled=False,button_style='info',tooltip='Search',icon='check');display(wordbox);display(pathbox);display(btnList);display(btnTab);btnList.on_click(word_list);btnTab.on_click(word_search)"
   ]
  },
  {
   "cell_type": "code",
   "execution_count": null,
   "metadata": {},
   "outputs": [],
   "source": []
  },
  {
   "cell_type": "code",
   "execution_count": null,
   "metadata": {},
   "outputs": [],
   "source": []
  }
 ],
 "metadata": {
  "kernelspec": {
   "display_name": "Python 3",
   "language": "python",
   "name": "python3"
  },
  "language_info": {
   "codemirror_mode": {
    "name": "ipython",
    "version": 3
   },
   "file_extension": ".py",
   "mimetype": "text/x-python",
   "name": "python",
   "nbconvert_exporter": "python",
   "pygments_lexer": "ipython3",
   "version": "3.7.3"
  }
 },
 "nbformat": 4,
 "nbformat_minor": 2
}
