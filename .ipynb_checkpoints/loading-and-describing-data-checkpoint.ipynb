{
 "cells": [
  {
   "cell_type": "markdown",
   "metadata": {},
   "source": [
    "<img src=\"http://imgur.com/1ZcRyrc.png\" style=\"float: left; margin: 20px; height: 55px\">\n",
    "\n",
    "## Practice Loading and Describing Data \n",
    "\n",
    "_Authors: Matt Brems (DC)_\n",
    "\n",
    "---\n",
    "\n",
    "In this lab you will practice loading data using python and describing it with statistics.\n",
    "\n",
    "It might be a good idea to first check the [source of the Boston housing data](https://archive.ics.uci.edu/ml/datasets/Housing)."
   ]
  },
  {
   "cell_type": "markdown",
   "metadata": {},
   "source": [
    "### 1. Load the Boston housing data (provided)"
   ]
  },
  {
   "cell_type": "code",
   "execution_count": null,
   "metadata": {
    "ExecuteTime": {
     "end_time": "2017-12-27T03:00:28.441827Z",
     "start_time": "2017-12-27T03:00:27.934811Z"
    }
   },
   "outputs": [],
   "source": [
    "# Download the data and save to a file called \"housing.data.\"\n",
    "\n",
    "import urllib\n",
    "data_url = \"https://archive.ics.uci.edu/ml/machine-learning-databases/housing/housing.data\"\n",
    "\n",
    "# this saves a file called 'housing.data' locally'\n",
    "urllib.request.urlretrieve(data_url, 'datasets/housing.data')"
   ]
  },
  {
   "cell_type": "code",
   "execution_count": 4,
   "metadata": {},
   "outputs": [
    {
     "name": "stdout",
     "output_type": "stream",
     "text": [
      "total 76\n",
      "drwxr-xr-x 1 KH 197121     0 Mar 17 22:31 .\n",
      "drwxr-xr-x 1 KH 197121     0 Mar 11 23:00 ..\n",
      "drwxr-xr-x 1 KH 197121     0 Mar 17 20:30 .ipynb_checkpoints\n",
      "-rw-r--r-- 1 KH 197121  6222 Mar 11 19:48 README.md\n",
      "drwxr-xr-x 1 KH 197121     0 Mar 17 20:31 datasets\n",
      "-rw-r--r-- 1 KH 197121 49082 Mar 17 11:05 housing.data\n",
      "-rw-r--r-- 1 KH 197121 10247 Mar 17 22:31 loading-and-describing-data.ipynb\n",
      "drwxr-xr-x 1 KH 197121     0 Mar 17 20:30 solution-code\n"
     ]
    }
   ],
   "source": [
    "!ls -al"
   ]
  },
  {
   "cell_type": "markdown",
   "metadata": {},
   "source": [
    "The data file does not contain the column names in the first line, so we'll need to add those in manually. You can find the names and explanations [here](https://archive.ics.uci.edu/ml/machine-learning-databases/housing/housing.names). We've extracted the names below for your convenience. You may choose to edit the names, should you decide it would be more helpful to do so."
   ]
  },
  {
   "cell_type": "code",
   "execution_count": 259,
   "metadata": {
    "ExecuteTime": {
     "end_time": "2017-12-27T02:59:22.479464Z",
     "start_time": "2017-12-27T02:59:22.475241Z"
    }
   },
   "outputs": [],
   "source": [
    "names = [\"CRIM\", \"ZN\", \"INDUS\", \"CHAS\", \"NOX\", \"RM\", \"AGE\",\n",
    "         \"DIS\", \"RAD\", \"TAX\", \"PTRATIO\", \"B\", \"LSTAT\", \"MEDV\"]"
   ]
  },
  {
   "cell_type": "markdown",
   "metadata": {},
   "source": [
    "### 2. Load the `housing.data` file with python\n",
    "\n",
    "Using any method of your choice.\n",
    "\n",
    "> _**Hint:** despite this file having a strange `.data` extension, using python's `open() as file` and `file.read()` or `file.readlines()` we can load this in and see that it is a text file formatted much the same as a CSV. You can use string operations to format the data._"
   ]
  },
  {
   "cell_type": "code",
   "execution_count": 162,
   "metadata": {
    "ExecuteTime": {
     "end_time": "2017-12-27T03:01:30.792808Z",
     "start_time": "2017-12-27T03:01:30.779940Z"
    }
   },
   "outputs": [
    {
     "name": "stdout",
     "output_type": "stream",
     "text": [
      "[0.00632, 0.02731, 0.02729, 0.03237, 0.06905, 0.02985, 0.08829, 0.14455, 0.21124, 0.17004]\n",
      "dict_keys(['CRIM', 'ZN', 'INDUS', 'CHAS', 'NOX', 'RM', 'AGE', 'DIS', 'RAD', 'TAX', 'PTRATIO', 'B', 'LSTAT', 'MEDV'])\n"
     ]
    }
   ],
   "source": [
    "with open(\"housing.data\", 'r') as f:\n",
    "    #data = [r for r in f.readlines()]\n",
    "    # 0.00632  18.00   2.310  0  0.5380  6.5750  65.20  4.0900   1  296.0  15.30 396.90   4.98  24.00\n",
    "    # data = [[x for x in r.split()] for r in f.readlines()]\n",
    "    # ['0.00632', '18.00', '2.310', '0', '0.5380', '6.5750', '65.20', '4.0900', '1', '296.0', '15.30', '396.90', '4.98', '24.00']\n",
    "    data = [[float(x) for x in r.split()] for r in f.readlines()]\n",
    "    # [0.00632, 18.0, 2.31, 0.0, 0.538, 6.575, 65.2, 4.09, 1.0, 296.0, 15.3, 396.9, 4.98, 24.0]\n",
    "f.close()\n",
    "# data is a list of list of float numbers\n",
    "\n",
    "dict_title = {v: [r[i] for r in data] for (i,v) in enumerate(names) }\n",
    "print(dict_title['CRIM'][:10])\n",
    "\n",
    "print(dict_title.keys())"
   ]
  },
  {
   "cell_type": "markdown",
   "metadata": {},
   "source": [
    "### 3.  Conduct a brief integrity check of your data. \n",
    "\n",
    "This integrity check should include, but is not limited to, checking for missing values and making sure all values make logical sense. (E.g. is one variable a percentage, but there are observations above 100%?)\n",
    "\n",
    "Summarize your findings in a few sentences, including what you checked and, if appropriate, any \n",
    "steps you took to rectify potential integrity issues."
   ]
  },
  {
   "cell_type": "code",
   "execution_count": 260,
   "metadata": {},
   "outputs": [
    {
     "name": "stdout",
     "output_type": "stream",
     "text": [
      "Checking CRIM \t# of records = 506 \tmax = 88.9762 \tmin = 0.00632\n",
      "Checking ZN \t# of records = 506 \tmax = 100.0 \tmin = 0.0\n",
      "Checking INDUS \t# of records = 506 \tmax = 27.74 \tmin = 0.46\n",
      "Checking CHAS \t# of records = 506 \tmax = 1.0 \tmin = 0.0\n",
      "Checking NOX \t# of records = 506 \tmax = 0.871 \tmin = 0.385\n",
      "Checking RM \t# of records = 506 \tmax = 8.78 \tmin = 3.561\n",
      "Checking AGE \t# of records = 506 \tmax = 100.0 \tmin = 2.9\n",
      "Checking DIS \t# of records = 506 \tmax = 12.1265 \tmin = 1.1296\n",
      "Checking RAD \t# of records = 506 \tmax = 24.0 \tmin = 1.0\n",
      "Checking TAX \t# of records = 506 \tmax = 711.0 \tmin = 187.0\n",
      "Checking PTRATIO \t# of records = 506 \tmax = 22.0 \tmin = 12.6\n",
      "Checking B \t# of records = 506 \tmax = 396.9 \tmin = 0.32\n",
      "Checking LSTAT \t# of records = 506 \tmax = 37.97 \tmin = 1.73\n",
      "Checking MEDV \t# of records = 506 \tmax = 50.0 \tmin = 5.0\n",
      "\n",
      "\n",
      "Found no missing data and no other data integrity issues.\n"
     ]
    }
   ],
   "source": [
    "# Checking for features with improperly recorded observations:\n",
    "    \n",
    "# Given the information about the features and observing a few of their \n",
    "# observations I believe there are 7 features which take place on a \n",
    "# normalized scale (0-1 or 0-100)\n",
    "\n",
    "# - CHAS {0,1},\n",
    "# - CRIM(0-100),\n",
    "# - ZN(0-100), \n",
    "# - INDUS(0-100), \n",
    "# - RM(0-100), \n",
    "# - LSTAT(0-100), \n",
    "# - PTRATIO(0-100)\n",
    "max_hund = ['ZN','INDUS','RM','LSTAT','PTRATIO', 'CRIM']\n",
    "errcnt=0\n",
    "for dk in dict_title.keys():\n",
    "    cnt = len(dict_title[dk])\n",
    "    dmax = max(dict_title[dk])\n",
    "    dmin = min(dict_title[dk])\n",
    "    dset = set(dict_title[dk])\n",
    "    dsetcnt = len(dset)\n",
    "    print(\"Checking {} \\t# of records = {} \\tmax = {} \\tmin = {}\".format(dk,cnt,dmax,dmin))\n",
    "    if dk in max_hund:\n",
    "        if dmin<0 or dmax>100:\n",
    "            print('Out of bound value found in {}  with value :'.format(dk))\n",
    "            err_list=[x for x in dict_title[dk] if x>100 or x<0]\n",
    "            print(err_list)\n",
    "            errcnt += 1\n",
    "    if dk==\"CHAS\":\n",
    "        if dmin<0 or dmax>1:\n",
    "            print('Out of bound value found in {}  with value :'.format(dk))\n",
    "            err_list=[x for x in dict_title[dk] if x>1 or x<0]\n",
    "            print(err_list)\n",
    "            errcnt += 1\n",
    "\n",
    "print(\"\\n\")\n",
    "if errcnt==0:\n",
    "    print(\"Found no missing data and no other data integrity issues.\")\n",
    "    "
   ]
  },
  {
   "cell_type": "markdown",
   "metadata": {},
   "source": [
    "### 4. For what two attributes does it make the *least* sense to calculate mean and median? Why?"
   ]
  },
  {
   "cell_type": "code",
   "execution_count": 261,
   "metadata": {
    "ExecuteTime": {
     "end_time": "2017-12-27T03:01:31.351999Z",
     "start_time": "2017-12-27T03:01:31.349026Z"
    }
   },
   "outputs": [
    {
     "name": "stdout",
     "output_type": "stream",
     "text": [
      "Checking CRIM \tvalue set cnt=504\n",
      "Checking ZN \tvalue set cnt=26\n",
      "Checking INDUS \tvalue set cnt=76\n",
      "Checking CHAS \tvalue set cnt=2\n",
      "Checking NOX \tvalue set cnt=81\n",
      "Checking RM \tvalue set cnt=446\n",
      "Checking AGE \tvalue set cnt=356\n",
      "Checking DIS \tvalue set cnt=412\n",
      "Checking RAD \tvalue set cnt=9\n",
      "Checking TAX \tvalue set cnt=66\n",
      "Checking PTRATIO \tvalue set cnt=46\n",
      "Checking B \tvalue set cnt=357\n",
      "Checking LSTAT \tvalue set cnt=455\n",
      "Checking MEDV \tvalue set cnt=229\n",
      "\n",
      "\n",
      "Found CHAS having very small values range = 2\n",
      "Found RAD having very small values range = 9\n",
      "\n",
      "\n",
      "These variables make the least sense to calculate mean and median\n",
      "\n",
      "These are the rest of variables:\n",
      "['CRIM', 'ZN', 'INDUS', 'NOX', 'RM', 'AGE', 'DIS', 'TAX', 'PTRATIO', 'B', 'LSTAT', 'MEDV']\n"
     ]
    }
   ],
   "source": [
    "list_setcnt=[]\n",
    "dict_setcnt={}\n",
    "for dk in dict_title.keys():\n",
    "    dset = set(dict_title[dk])\n",
    "    dsetcnt = len(dset)\n",
    "    list_setcnt.append(dsetcnt)\n",
    "    dict_setcnt[dk]=dsetcnt\n",
    "    print(\"Checking {} \\tvalue set cnt={}\".format(dk,dsetcnt))\n",
    "\n",
    "print(\"\\n\")\n",
    "\n",
    "list_setcnt.sort()\n",
    "new_names=[]\n",
    "for dk in names:\n",
    "    if dict_setcnt[dk] in list_setcnt[:2]:\n",
    "        print(\"Found {} having very small values range = {}\".format(dk,dict_setcnt[dk]))\n",
    "    else:\n",
    "        new_names.append(dk)\n",
    "       \n",
    "print(\"\\n\")\n",
    "print(\"These variables make the least sense to calculate mean and median\\n\")\n",
    "print(\"These are the rest of variables:\")\n",
    "print(new_names)"
   ]
  },
  {
   "cell_type": "markdown",
   "metadata": {},
   "source": [
    "### 5. Which two variables have the strongest linear association? \n",
    "\n",
    "Report both variables, the metric you chose as the basis for your comparison, and the value of that metric. *(Hint: Make sure you consider only variables for which it makes sense to find a linear association.)*"
   ]
  },
  {
   "cell_type": "code",
   "execution_count": 282,
   "metadata": {
    "ExecuteTime": {
     "end_time": "2017-12-27T03:01:31.600232Z",
     "start_time": "2017-12-27T03:01:31.597289Z"
    }
   },
   "outputs": [
    {
     "name": "stdout",
     "output_type": "stream",
     "text": [
      "These variables have the strongest linear association:\n",
      "NOX\n",
      "DIS\n"
     ]
    }
   ],
   "source": [
    "import numpy as np\n",
    "\n",
    "relationships = []\n",
    "\n",
    "for name1 in new_names:\n",
    "    for name2 in new_names:\n",
    "        if (name1 != name2):\n",
    "            relationships.append([name1, name2, np.corrcoef(dict_title[name1], dict_title[name2])[0,1]])\n",
    "\n",
    "sort_rel = sorted(relationships, \n",
    "                  key=lambda x: np.abs(x[2]), \n",
    "                  reverse=True)  \n",
    "\n",
    "print(\"These variables have the strongest linear association:\")\n",
    "var1=sort_rel[0][0]\n",
    "var2=sort_rel[0][1]\n",
    "print(var1)\n",
    "print(var2)\n"
   ]
  },
  {
   "cell_type": "code",
   "execution_count": 281,
   "metadata": {},
   "outputs": [
    {
     "name": "stdout",
     "output_type": "stream",
     "text": [
      "NOX\n",
      "DIS\n"
     ]
    },
    {
     "data": {
      "image/png": "[encoded data removed]",
      "text/plain": [
       "<Figure size 432x288 with 1 Axes>"
      ]
     },
     "metadata": {},
     "output_type": "display_data"
    }
   ],
   "source": [
    "import matplotlib.pyplot as plt\n",
    "%matplotlib inline \n",
    "\n",
    "plt.scatter(dict_title[var1],dict_title[var2],alpha=0.5,marker='x')\n",
    "plt.xlabel(var1)\n",
    "plt.ylabel(var2)\n",
    "plt.title('{} versus {}'.format(var1,var2))\n",
    "plt.show()\n"
   ]
  },
  {
   "cell_type": "markdown",
   "metadata": {},
   "source": [
    "### 6. Look at distributional qualities of variables.\n",
    "\n",
    "Answer the following questions:\n",
    "1. Which variable has the most symmetric distribution? \n",
    "2. Which variable has the most left-skewed (negatively skewed) distribution? \n",
    "3. Which variable has the most right-skewed (positively skewed) distribution? \n",
    "\n",
    "Defend your method for determining this."
   ]
  },
  {
   "cell_type": "code",
   "execution_count": null,
   "metadata": {
    "ExecuteTime": {
     "end_time": "2017-12-27T03:01:31.862449Z",
     "start_time": "2017-12-27T03:01:31.858281Z"
    }
   },
   "outputs": [],
   "source": [
    "# A:"
   ]
  },
  {
   "cell_type": "markdown",
   "metadata": {},
   "source": [
    "### 7. Repeat question 6 but scale the variables by their range first.\n",
    "\n",
    "As you may have noticed, the spread of the distribution contributed significantly to the results in question 6."
   ]
  },
  {
   "cell_type": "code",
   "execution_count": null,
   "metadata": {
    "ExecuteTime": {
     "end_time": "2017-12-27T03:01:32.129484Z",
     "start_time": "2017-12-27T03:01:32.126108Z"
    }
   },
   "outputs": [],
   "source": [
    "# A:"
   ]
  },
  {
   "cell_type": "markdown",
   "metadata": {},
   "source": [
    "### 8. Univariate analysis of your choice\n",
    "\n",
    "Conduct a full univariate analysis on MEDV, CHAS, TAX, and RAD. \n",
    "\n",
    "For each variable, you should answer the three questions generally asked in a univariate analysis using the most appropriate metrics.\n",
    "- A measure of central tendency\n",
    "- A measure of spread\n",
    "- A description of the shape of the distribution (plot or metric based)\n",
    "\n",
    "If you feel there is additional information that is relevant, include it. "
   ]
  },
  {
   "cell_type": "code",
   "execution_count": null,
   "metadata": {
    "ExecuteTime": {
     "end_time": "2017-12-27T03:01:32.938107Z",
     "start_time": "2017-12-27T03:01:32.933258Z"
    }
   },
   "outputs": [],
   "source": [
    "# A:"
   ]
  },
  {
   "cell_type": "markdown",
   "metadata": {},
   "source": [
    "### 9. Have you been using inferential statistics, descriptive statistics, or both?\n",
    "\n",
    "For each exercise, identify the branch of statistics on which you relied for your answer."
   ]
  },
  {
   "cell_type": "code",
   "execution_count": null,
   "metadata": {
    "ExecuteTime": {
     "end_time": "2017-12-27T03:01:33.190691Z",
     "start_time": "2017-12-27T03:01:33.187276Z"
    }
   },
   "outputs": [],
   "source": [
    "# A:"
   ]
  },
  {
   "cell_type": "markdown",
   "metadata": {},
   "source": [
    "### 10. Reducing the number of observations\n",
    "\n",
    "It seems likely that this data is a census - that is, the data set includes the entire target population. Suppose that the 506 observations was too much for our computer (as unlikely as this might be) and we needed to pare this down to fewer observations. \n",
    "\n",
    "**10.A Use the `random.sample()` function to select 50 observations from `'AGE'`.**\n",
    "\n",
    "([This documentation](https://docs.python.org/2/library/random.html) may be helpful.)"
   ]
  },
  {
   "cell_type": "code",
   "execution_count": null,
   "metadata": {
    "ExecuteTime": {
     "end_time": "2017-12-27T03:01:33.468959Z",
     "start_time": "2017-12-27T03:01:33.466181Z"
    }
   },
   "outputs": [],
   "source": [
    "# A:"
   ]
  },
  {
   "cell_type": "markdown",
   "metadata": {},
   "source": [
    "**10.B Identify the type of sampling we just used.**"
   ]
  },
  {
   "cell_type": "code",
   "execution_count": null,
   "metadata": {
    "ExecuteTime": {
     "end_time": "2017-12-27T03:01:33.737597Z",
     "start_time": "2017-12-27T03:01:33.734566Z"
    }
   },
   "outputs": [],
   "source": [
    "# A:"
   ]
  },
  {
   "cell_type": "markdown",
   "metadata": {},
   "source": [
    "### 11. [BONUS] Of the remaining types of sampling, describe (but do not execute) how you might implement at least one of these types of sampling.\n"
   ]
  },
  {
   "cell_type": "code",
   "execution_count": null,
   "metadata": {},
   "outputs": [],
   "source": [
    "# A:"
   ]
  }
 ],
 "metadata": {
  "anaconda-cloud": {},
  "kernelspec": {
   "display_name": "Python 3",
   "language": "python",
   "name": "python3"
  },
  "language_info": {
   "codemirror_mode": {
    "name": "ipython",
    "version": 3
   },
   "file_extension": ".py",
   "mimetype": "text/x-python",
   "name": "python",
   "nbconvert_exporter": "python",
   "pygments_lexer": "ipython3",
   "version": "3.7.2"
  },
  "varInspector": {
   "cols": {
    "lenName": 16,
    "lenType": 16,
    "lenVar": 40
   },
   "kernels_config": {
    "python": {
     "delete_cmd_postfix": "",
     "delete_cmd_prefix": "del ",
     "library": "var_list.py",
     "varRefreshCmd": "print(var_dic_list())"
    },
    "r": {
     "delete_cmd_postfix": ") ",
     "delete_cmd_prefix": "rm(",
     "library": "var_list.r",
     "varRefreshCmd": "cat(var_dic_list()) "
    }
   },
   "types_to_exclude": [
    "module",
    "function",
    "builtin_function_or_method",
    "instance",
    "_Feature"
   ],
   "window_display": false
  }
 },
 "nbformat": 4,
 "nbformat_minor": 2
}
